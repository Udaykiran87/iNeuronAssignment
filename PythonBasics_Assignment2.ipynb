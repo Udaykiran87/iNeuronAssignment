{
 "cells": [
  {
   "cell_type": "raw",
   "metadata": {},
   "source": [
    "1. What are the Boolean data type's two values? How do you go about writing them?\n",
    "True and False.\n",
    "Examples:\n",
    "A = True\n",
    "B=False\n",
    "If C == True:\n"
   ]
  },
  {
   "cell_type": "raw",
   "metadata": {},
   "source": [
    "2. What are the three different types of Boolean operators?\n",
    "and, or, not.\n"
   ]
  },
  {
   "cell_type": "raw",
   "metadata": {},
   "source": [
    "# 3. Make a list of each Boolean operator's truth tables (i.e. every possible combination of Boolean values for the operator and what it evaluate).\n",
    "A\tB\tnot A\tnot B\tA or B\tA and B\n",
    "True\tFalse\tFalse\tTrue\tTrue\tFalse\n",
    "False\tTrue\tTrue\tFalse\tTrue\tFalse\n",
    "True\tTrue\tFalse\tFalse\tTrue\tTrue\n",
    "False\tFalse\tTrue\tTrue\tFalse\tFalse\n",
    "\n"
   ]
  },
  {
   "cell_type": "raw",
   "metadata": {},
   "source": [
    "4. What are the values of the following expressions?\n",
    "(5 > 4) and (3 == 5):\tFalse\n",
    "not (5 > 4):\tFalse\n",
    "(5 > 4) or (3 == 5):\tTrue\n",
    "not ((5 > 4) or (3 == 5)):\tFalse\n",
    "(True and True) and (True == False):\tFalse\n",
    "(not False) or (not True):\tTrue\n"
   ]
  },
  {
   "cell_type": "raw",
   "metadata": {},
   "source": [
    "5. What are the six different types of reference operators?\n",
    "1.\tPython Assignment Operators.\n",
    "2.\tPython Arithmetic Operators.\n",
    "3.\tPython Comparison Operators.\n",
    "4.\tPython Bitwise Operators.\n",
    "5.\tPython Logical Operators.\n",
    "6.\tPython Operator Precedence.\n"
   ]
  },
  {
   "cell_type": "raw",
   "metadata": {},
   "source": [
    "6. How do you tell the difference between the equal to and assignment operators?\n",
    "6 == 7 is False\n",
    "6 = 7 is error as left-hand side is also a numeric constant\n",
    "If a == 7: means if a is equal to 7 or not\n",
    "a = 7: means 7 is assigned to a\n"
   ]
  },
  {
   "cell_type": "raw",
   "metadata": {},
   "source": [
    "7. Describe a condition and when you would use one.\n",
    "A python condition is used to perform some sort of action based on some conditions. \n",
    "i.e it performs conditional execution of a statement or a group of statements. Basically, python conditions are use in if statement or various loops.\n",
    "Example, if you want to print car is moving only when is engine is in running condition. So you can write something like below:\n",
    "If engine_status == RUNNING:\n",
    "\tPrint(‘car is running’)\n"
   ]
  },
  {
   "cell_type": "raw",
   "metadata": {},
   "source": [
    "8. Recognize the following three blocks in this code:\n",
    "spam = 0\n",
    "if spam == 10:\n",
    "    print('eggs')\n",
    "    if spam > 5:\n",
    "        print('bacon')\n",
    "    else:\n",
    "        print('ham')\n",
    "    print('spam')\n",
    "print('spam')\n",
    "Answer:\n",
    "Block1:\n",
    "if spam == 10:\n",
    "    print('eggs')\n",
    "    if spam > 5:\n",
    "        print('bacon')\n",
    "    else:\n",
    "        print('ham')\n",
    "    print('spam')\n",
    "block2:\n",
    "    if spam > 5:\n",
    "        print('bacon')\n",
    "block 3:\n",
    "    else:\n",
    "        print('ham')\n"
   ]
  },
  {
   "cell_type": "raw",
   "metadata": {},
   "source": [
    "9. Write code that prints Hello if 1 is stored in spam, prints Howdy if 2 is stored in spam, and prints Greetings! if anything else is stored in spam.\n",
    "spam = 3\n",
    "if spam == 1:\n",
    "    print('Hello')\n",
    "elif spam == 2:\n",
    "    print('Howdy')\n",
    "else:\n",
    "    print('Greetings')\n"
   ]
  },
  {
   "cell_type": "raw",
   "metadata": {},
   "source": [
    "10.If your programme is stuck in an endless loop, what keys can you press?\n",
    "Ctrl + C\n"
   ]
  },
  {
   "cell_type": "raw",
   "metadata": {},
   "source": [
    "11. How can you tell the difference between break and continue?\n",
    "break is used to stop executing the loop and come out of loop, whereas continue will just skip a particular iteration and continue looping with next iteration.\n"
   ]
  },
  {
   "cell_type": "raw",
   "metadata": {},
   "source": [
    "12. In a for loop, what is the difference between range(10), range(0, 10), and range(0, 10, 1)?\n",
    "All are same. It will loop from 0 to 9 including 9.\n"
   ]
  },
  {
   "cell_type": "raw",
   "metadata": {},
   "source": [
    "13. Using a for loop, write a short programme that prints the numbers 1 to 10 Then, using a while loop, create an identical programme that prints the numbers 1 to 10.\n",
    "for i in range(1,11):\n",
    "    print (i)\n",
    "\n",
    "i = 1\n",
    "while (i in range(1,11)):\n",
    "    print(i)\n",
    "    i = i + 1\n"
   ]
  },
  {
   "cell_type": "raw",
   "metadata": {},
   "source": [
    "14. If you had a bacon() function within a spam module, how  would you call it after importing spam?\n",
    "spam.bacon()\n"
   ]
  }
 ],
 "metadata": {
  "kernelspec": {
   "display_name": "Python 3",
   "language": "python",
   "name": "python3"
  },
  "language_info": {
   "codemirror_mode": {
    "name": "ipython",
    "version": 3
   },
   "file_extension": ".py",
   "mimetype": "text/x-python",
   "name": "python",
   "nbconvert_exporter": "python",
   "pygments_lexer": "ipython3",
   "version": "3.7.6"
  }
 },
 "nbformat": 4,
 "nbformat_minor": 4
}
