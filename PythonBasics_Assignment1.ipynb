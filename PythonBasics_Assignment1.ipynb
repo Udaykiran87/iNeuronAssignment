{
 "cells": [
  {
   "cell_type": "markdown",
   "metadata": {},
   "source": [
    "# 1. What are the differences between operators and values in the following?\n",
    "*: this is a multiplication operator\n",
    "'hello': this is string constant with a value = ‘hello’\n",
    "-87.8: this is numeric constant or value with a value = -87.8\n",
    "-: this is subtracting operator\n",
    "/: this is division operator\n",
    "+: this is an addition operator\n",
    "6: this is numeric constant or value with a value = 6\n"
   ]
  },
  {
   "cell_type": "markdown",
   "metadata": {},
   "source": [
    "# 2. What is the difference between string and variable?\n",
    "Spam: This is a variable name. It can hold any value. When a value is assigned to this variable, then some memory is allocated for this variable based on the data type of the value.  \n",
    "'spam': It is a string constant. It can be used to assign to a variable. Ex: Spam = ‘spam’ \n"
   ]
  },
  {
   "cell_type": "markdown",
   "metadata": {},
   "source": [
    "# 3. Describe three different data forms.\n",
    "Numeric Types: int , float , complex\n",
    "Sequence Types: list , tuple , range\n",
    "Mapping Type: dict\n"
   ]
  },
  {
   "cell_type": "markdown",
   "metadata": {},
   "source": [
    "# 4. What makes up an expression? What are the functions of all expressions?\n",
    "Expression is a collection of values, operators, variable etc which is used by python interpreter to evaluate and obtain final result.\n"
   ]
  },
  {
   "cell_type": "markdown",
   "metadata": {},
   "source": [
    "# 5. In this chapter, assignment statements such as spam = 10 were added. What's the difference between a declaration and an expression?\n",
    "In python we do not have to declare a variable separately, declaration can be done at the time of variable initialization. So, spam = 10 act as a declaration with initialization.\n",
    "Expressions are generally used to evaluate some syntaxes. Here spam = 10 is not an expression.\n"
   ]
  },
  {
   "cell_type": "markdown",
   "metadata": {},
   "source": [
    "# 6. After running the following code, what does the variable bacon contain?\n",
    "bacon = 22\n",
    "bacon + 1\n",
    "bacon still contains 22\n"
   ]
  },
  {
   "cell_type": "markdown",
   "metadata": {},
   "source": [
    "# 7. What should the values of the following two terms be?\n",
    "\n",
    "'spam' + 'spamspam'  spamspamspam\n",
    "'spam' * 3 spamspamspam\n"
   ]
  },
  {
   "cell_type": "markdown",
   "metadata": {},
   "source": [
    "# 8. Why is it that eggs is a true variable name but 100 is not?\n",
    "A python variable name can not start with a number. Also 100 is scaler number. When we try to assign some other value to 100, we can not do that. Left side of = is a constant. It will give error, because we can assign anything to a number.\n"
   ]
  },
  {
   "cell_type": "markdown",
   "metadata": {},
   "source": [
    "# 9. Which of the following three functions may be used to convert a value to an integer, a floating-point number, or a string?\n",
    "int(x)\n",
    "float(x)\n",
    "str(x)\n"
   ]
  },
  {
   "cell_type": "markdown",
   "metadata": {},
   "source": [
    "# 10. What is the error caused by this expression? What would you do about it?\n",
    "\n",
    "'I have eaten ' + 99 + ' burritos.'\n",
    "Correct answer is below\n",
    "'I have eaten ' + '99' + ' burritos.'\n",
    "We cannot concatenate a string with a number.\n"
   ]
  },
  {
   "cell_type": "code",
   "execution_count": null,
   "metadata": {},
   "outputs": [],
   "source": []
  }
 ],
 "metadata": {
  "kernelspec": {
   "display_name": "Python 3",
   "language": "python",
   "name": "python3"
  },
  "language_info": {
   "codemirror_mode": {
    "name": "ipython",
    "version": 3
   },
   "file_extension": ".py",
   "mimetype": "text/x-python",
   "name": "python",
   "nbconvert_exporter": "python",
   "pygments_lexer": "ipython3",
   "version": "3.7.6"
  }
 },
 "nbformat": 4,
 "nbformat_minor": 4
}
